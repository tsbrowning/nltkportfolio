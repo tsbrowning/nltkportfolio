{
 "cells": [
  {
   "cell_type": "markdown",
   "metadata": {},
   "source": [
    "Write a Python program that converts an integer between 1 and 301 to Roman numerals. Comment the code to explain your program. More about Roman numerals at: http://en.wikipedia.org/wiki/Roman_numerals"
   ]
  },
  {
   "cell_type": "code",
   "execution_count": 4,
   "metadata": {},
   "outputs": [
    {
     "name": "stdout",
     "output_type": "stream",
     "text": [
      "Please enter an integer between 1 and 301: 400\n",
      "Invalid entry\n",
      "Please enter an integer between 1 and 301: 12\n",
      "XII\n",
      "Continue? yes\n",
      "Please enter an integer between 1 and 301: 299\n",
      "CCXCIX\n",
      "Continue? no\n",
      "Goodbye\n"
     ]
    }
   ],
   "source": [
    "numMap = [(100, 'C'), (90, 'XC'), (50, 'L'), (40, 'XL'), (10, 'X'), (9, 'IX'), (5, 'V'), (4, 'IV'), (1, 'I')]\n",
    "\n",
    "def numtoRom(num):\n",
    "    \n",
    "    roman = ''\n",
    "    \n",
    "    while num > 0:\n",
    "        for i, r in numMap:\n",
    "            while num>= i:\n",
    "                roman += r\n",
    "                num -= i\n",
    "    return roman\n",
    "\n",
    "while True:\n",
    "    \n",
    "    n = input(\"Please enter an integer between 1 and 301: \")\n",
    "    n1 = int(n)\n",
    "    \n",
    "    if 1<= n1 <= 301:\n",
    "        print(numtoRom(n1))\n",
    "    else:\n",
    "        print('Invalid entry')\n",
    "        continue\n",
    "              \n",
    "    c = input(\"Continue? \")\n",
    "    c1 = c.lower()\n",
    "    if c1[0] == 'n':\n",
    "        print('Goodbye')\n",
    "        break\n",
    "    else:\n",
    "        continue"
   ]
  },
  {
   "cell_type": "markdown",
   "metadata": {},
   "source": [
    "Write a program which calculates what percentage of noun synsets have no hyponyms? You can get all noun synsets using wn.all_synsets('n'). "
   ]
  },
  {
   "cell_type": "code",
   "execution_count": 7,
   "metadata": {},
   "outputs": [
    {
     "name": "stdout",
     "output_type": "stream",
     "text": [
      "Of all WordNet nouns, only approximately 79 percent of nouns have no hyponyms.\n"
     ]
    }
   ],
   "source": [
    "from nltk.corpus import wordnet as wn\n",
    "HypoNouns=[noun for noun in wn.all_synsets('n') if len(noun.hyponyms())==0]\n",
    "AllNouns=[noun for noun in wn.all_synsets('n')]\n",
    "print(\"Of all WordNet nouns, only approximately\",int(len(HypoNouns)/len(AllNouns)*100), \"percent of nouns have no hyponyms.\")                  "
   ]
  },
  {
   "cell_type": "markdown",
   "metadata": {},
   "source": [
    "Askthe user to enter two nouns and using NLTK and WordNet determine whether they are synonyms. If they are synonyms print the definition(s) of the senses they have in common. "
   ]
  },
  {
   "cell_type": "code",
   "execution_count": 3,
   "metadata": {
    "scrolled": true
   },
   "outputs": [
    {
     "name": "stdout",
     "output_type": "stream",
     "text": [
      "Please enter word one: run\n",
      "Please enter word two: jog\n",
      "\n",
      "Wordnet has found the following synonyms of the words inputed:\n",
      "\n",
      "Definition of synonym number 1 is: a score in baseball made by a runner touching all four bases safely\n",
      "Definition of synonym number 2 is: the act of testing something\n",
      "Definition of synonym number 3 is: a race run on foot\n",
      "Definition of synonym number 4 is: an unbroken series of events\n",
      "Definition of synonym number 5 is: (American football) a play in which a player attempts to carry the ball through or past the opposing team\n",
      "Definition of synonym number 6 is: a regular trip\n",
      "Definition of synonym number 7 is: the act of running; traveling on foot at a fast pace\n",
      "Definition of synonym number 8 is: the continuous period of time during which something (a machine or a factory) operates or continues in operation\n",
      "Definition of synonym number 9 is: unrestricted freedom to use\n",
      "Definition of synonym number 10 is: the production achieved during a continuous period of operation (of a machine or factory etc.)\n",
      "Definition of synonym number 11 is: a small stream\n",
      "Definition of synonym number 12 is: a race between candidates for elective office\n",
      "Definition of synonym number 13 is: a row of unravelled stitches\n",
      "Definition of synonym number 14 is: the pouring forth of a fluid\n",
      "Definition of synonym number 15 is: an unbroken chronological sequence\n",
      "Definition of synonym number 16 is: a short trip\n",
      "Definition of synonym number 17 is: move fast by using one's feet, with one foot off the ground at any given time\n",
      "Definition of synonym number 18 is: flee; take to one's heels; cut and run\n",
      "Definition of synonym number 19 is: stretch out over a distance, space, time, or scope; run or extend between two points or beyond a certain point\n",
      "Definition of synonym number 20 is: direct or control; projects, businesses, etc.\n",
      "Definition of synonym number 21 is: have a particular form\n",
      "Definition of synonym number 22 is: move along, of liquids\n",
      "Definition of synonym number 23 is: perform as expected when applied\n",
      "Definition of synonym number 24 is: change or be different within limits\n",
      "Definition of synonym number 25 is: run, stand, or compete for an office or a position\n",
      "Definition of synonym number 26 is: cause to emit recorded audio or video\n",
      "Definition of synonym number 27 is: move about freely and without restraint, or act as if running around in an uncontrolled way\n",
      "Definition of synonym number 28 is: have a tendency or disposition to do or be something; be inclined\n",
      "Definition of synonym number 29 is: be operating, running or functioning\n",
      "Definition of synonym number 30 is: change from one state to another\n",
      "Definition of synonym number 31 is: cause to perform\n",
      "Definition of synonym number 32 is: be affected by; be subjected to\n",
      "Definition of synonym number 33 is: continue to exist\n",
      "Definition of synonym number 34 is: occur persistently\n",
      "Definition of synonym number 35 is: carry out a process or program, as on a computer or a machine\n",
      "Definition of synonym number 36 is: include as the content; broadcast or publicize\n",
      "Definition of synonym number 37 is: carry out\n",
      "Definition of synonym number 38 is: pass over, across, or through\n",
      "Definition of synonym number 39 is: cause something to pass or lead somewhere\n",
      "Definition of synonym number 40 is: make without a miss\n",
      "Definition of synonym number 41 is: deal in illegally, such as arms or liquor\n",
      "Definition of synonym number 42 is: cause an animal to move fast\n",
      "Definition of synonym number 43 is: be diffused\n",
      "Definition of synonym number 44 is: sail before the wind\n",
      "Definition of synonym number 45 is: cover by running; run a certain distance\n",
      "Definition of synonym number 46 is: extend or continue for a certain period of time\n",
      "Definition of synonym number 47 is: set animals loose to graze\n",
      "Definition of synonym number 48 is: keep company\n",
      "Definition of synonym number 49 is: run with the ball; in such sports as football\n",
      "Definition of synonym number 50 is: travel rapidly, by any (unspecified) means\n",
      "Definition of synonym number 51 is: travel a route regularly\n",
      "Definition of synonym number 52 is: pursue for food or sport (as of wild animals)\n",
      "Definition of synonym number 53 is: compete in a race\n",
      "Definition of synonym number 54 is: progress by being changed\n",
      "Definition of synonym number 55 is: reduce or cause to be reduced from a solid to a liquid state, usually by heating\n",
      "Definition of synonym number 56 is: come unraveled or undone as if by snagging\n",
      "Definition of synonym number 57 is: become undone\n"
     ]
    }
   ],
   "source": [
    "from nltk.corpus import wordnet\n",
    "synonyms1 = []\n",
    "synonyms2 = []\n",
    "UniqueSynonyms = []\n",
    "PrintSynonyms = []\n",
    "count = 0\n",
    "In1 = input('Please enter word one: ')\n",
    "In2 = input('Please enter word two: ')\n",
    "\n",
    "#For loop to populate synsets into synonyms1&2\n",
    "for syn in wordnet.synsets(In1):\n",
    "    for l in syn.lemmas():\n",
    "        synonyms1.append(l.synset())\n",
    "for syn in wordnet.synsets(In1):\n",
    "    for l in syn.lemmas():\n",
    "        synonyms2.append(l.synset())\n",
    "\n",
    "s1 = list(synonyms1)\n",
    "s2 = list(synonyms2)\n",
    "        \n",
    "\n",
    "\n",
    "#UniqueSynonyms, for some reason, provides me a random number of duplicates for each synset \n",
    "for syn in s1:\n",
    "    if syn in s2:\n",
    "        UniqueSynonyms.append(syn)\n",
    "#For loop removes duplicates from UniqueSynonyms\n",
    "for e in UniqueSynonyms:\n",
    "    if e not in PrintSynonyms:\n",
    "        PrintSynonyms.append(e)\n",
    "print(\"\\nWordnet has found the following synonyms of the words inputed:\\n\")\n",
    "for f in PrintSynonyms:\n",
    "    count +=1\n",
    "    print(\"Definition of synonym number\", count, \"is:\", f.definition())\n",
    "\n",
    "\n",
    "#print(\"\\n\\n\", s1, \"\\n\", s2)"
   ]
  },
  {
   "cell_type": "code",
   "execution_count": null,
   "metadata": {},
   "outputs": [],
   "source": []
  }
 ],
 "metadata": {
  "kernelspec": {
   "display_name": "Python 3",
   "language": "python",
   "name": "python3"
  },
  "language_info": {
   "codemirror_mode": {
    "name": "ipython",
    "version": 3
   },
   "file_extension": ".py",
   "mimetype": "text/x-python",
   "name": "python",
   "nbconvert_exporter": "python",
   "pygments_lexer": "ipython3",
   "version": "3.8.5"
  }
 },
 "nbformat": 4,
 "nbformat_minor": 4
}
