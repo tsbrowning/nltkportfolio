{
 "cells": [
  {
   "cell_type": "markdown",
   "metadata": {},
   "source": [
    "Travis Browning\n",
    "7LN001\n",
    "Portfolio 5, Week 7 practical session\n",
    "9 February, 2021"
   ]
  },
  {
   "cell_type": "markdown",
   "metadata": {},
   "source": [
    "1. Create a program that: Asks for a word; Checks whether it is more frequent as a Noun or a Verb in Brown corpus. \n",
    "Displays a message if it does not appear as a nounor a verb in the Brown corpus."
   ]
  },
  {
   "cell_type": "code",
   "execution_count": 1,
   "metadata": {},
   "outputs": [
    {
     "name": "stdout",
     "output_type": "stream",
     "text": [
      "Please enter a word: run\n",
      "Noun count for run : 52\n",
      "Verb count for run : 154\n",
      "This word is more commonly used as a verb by a difference of 102 entries.\n",
      "Continue? access\n",
      "Please enter a word: access\n",
      "Noun count for access : 24\n",
      "Verb count for access : 0\n",
      "This word is more commonly used as a noun by a difference of 24 entries.\n",
      "Continue? yes\n",
      "Please enter a word: face\n",
      "Noun count for face : 319\n",
      "Verb count for face : 51\n",
      "This word is more commonly used as a noun by a difference of 268 entries.\n",
      "Continue? n\n",
      "Goodbye\n"
     ]
    }
   ],
   "source": [
    "from nltk.corpus import brown as br\n",
    "corpus = br.tagged_words(tagset='universal')\n",
    "\n",
    "\n",
    "while True:\n",
    "    testWord = input(\"Please enter a word: \")\n",
    "\n",
    "    #n & v identify instances of nouns & verbs in the corpus\n",
    "    n = [word for word, pos in corpus if pos.startswith('N')]\n",
    "    v = [word for word, pos in corpus if pos.startswith('V')]\n",
    "    nounCount = 0\n",
    "    verbCount = 0\n",
    "\n",
    "    for noun in n:\n",
    "        if noun == testWord.lower():\n",
    "            nounCount += 1\n",
    "    for verb in v:\n",
    "        if verb == testWord.lower():\n",
    "            verbCount += 1\n",
    "    if nounCount or verbCount > 0:\n",
    "        print(\"Noun count for\", testWord, \":\", nounCount)\n",
    "        print(\"Verb count for\", testWord, \":\", verbCount)\n",
    "    \n",
    "    #compare the counts to each other and to zero\n",
    "    if nounCount > verbCount:\n",
    "        print('This word is more commonly used as a noun by a difference of', nounCount-verbCount, 'entries.')\n",
    "    if verbCount > nounCount:\n",
    "        print('This word is more commonly used as a verb by a difference of', verbCount-nounCount, 'entries.')\n",
    "    elif verbCount + nounCount == 0:\n",
    "        print(\"Your word does not appear as a verb or noun in the Brown corpus.\")\n",
    "        \n",
    "    c = input(\"Continue? \")\n",
    "    c1 = c.lower()\n",
    "    if c1[0] == 'n':\n",
    "        print('Goodbye')\n",
    "        break\n",
    "    else:\n",
    "        continue"
   ]
  },
  {
   "cell_type": "markdown",
   "metadata": {},
   "source": [
    "\n",
    "2. Develop a program that will give you the possibility to search for three-word phrases that have a specified sequence of part of speech.\n",
    "Select the Brown corpus from NLTK and ask the user for the sequence of parts of speech. Output all the words of the given structure.\n",
    "For the sake of simplicity use the universal tagset (i.e. brown.tagged_words(tagset='universal') See more at http://www.nltk.org/book/ch05.html#tab-universal-tagset )\n",
    "'''\n",
    "\n",
    "E.g. User asks for ADJ + NOUN + NOUN; Program outputs phrases similar to: ('recent', 'ADJ'), ('primary', 'NOUN'), ('election', 'NOUN')"
   ]
  },
  {
   "cell_type": "code",
   "execution_count": 34,
   "metadata": {},
   "outputs": [
    {
     "name": "stdout",
     "output_type": "stream",
     "text": [
      "Please enter three part of speech tags, seperated by a space; or you can enter \"bank\" to see a list of POS tags:\n",
      "verb noun adjective\n",
      "('Balanced', 'VERB')\n",
      "('morticians', 'NOUN')\n",
      "('heathenish', 'ADJ')\n",
      "Continue? YES\n",
      "Please enter three part of speech tags, seperated by a space; or you can enter \"bank\" to see a list of POS tags:\n",
      "adverb conjunction determiner particle\n",
      "('restlessly', 'ADV')\n",
      "('or', 'CONJ')\n",
      "('thease', 'DET')\n",
      "Continue? y\n",
      "Please enter three part of speech tags, seperated by a space; or you can enter \"bank\" to see a list of POS tags:\n",
      "particle pronoun punctuation\n",
      "(\"She'll\", 'PRT')\n",
      "('whoe', 'PRON')\n",
      "('!', '.')\n",
      "Continue? Y\n",
      "Please enter three part of speech tags, seperated by a space; or you can enter \"bank\" to see a list of POS tags:\n",
      "other\n",
      "('Sultane', 'X')\n",
      "Continue? N\n",
      "Goodbye\n"
     ]
    }
   ],
   "source": [
    "#import and define corpus, import random for the for loop below\n",
    "import nltk\n",
    "from nltk.corpus import brown as br \n",
    "import random\n",
    "corpus = br.tagged_words(tagset='universal') \n",
    "\n",
    "#using FreqDist to add counts to words for the list comprehensions in the for loop below\n",
    "countWord = nltk.FreqDist(corpus)\n",
    "\n",
    "#., ADP, CONJ, PRT, VERB, PRON, ADV, NUM, ADJ, NOUN, X, DET\n",
    "\n",
    "while True:\n",
    "    sentence = input('Please enter three part of speech tags, seperated by a space; or you can enter \"bank\" to see a list of POS tags:\\n') \n",
    "    sList = sentence.split() \n",
    "    sList1 = sList[:3]\n",
    "\n",
    "    #as mentioned\n",
    "    for tag in sList1: \n",
    "        #random iterations of most_common() to keep things interesting\n",
    "        if tag.lower() == 'verb': \n",
    "            print(random.choice([wTag[:2] for (wTag, _) in countWord.most_common() if wTag[1].startswith('VER')])) \n",
    "        elif tag.lower() == 'noun': \n",
    "            print(random.choice([wTag[:2] for (wTag, _) in countWord.most_common() if wTag[1].startswith('NOU')])) \n",
    "        elif tag.lower() == 'adjective': \n",
    "            print(random.choice([wTag[:2] for (wTag, _) in countWord.most_common() if wTag[1].startswith('ADJ')]))\n",
    "        elif tag.lower() == 'adverb': \n",
    "            print(random.choice([wTag[:2] for (wTag, _) in countWord.most_common() if wTag[1].startswith('ADV')]))\n",
    "        elif tag.lower() == 'conjunction': \n",
    "            print(random.choice([wTag[:2] for (wTag, _) in countWord.most_common() if wTag[1].startswith('CONJ')]))\n",
    "        elif tag.lower() == 'determiner': \n",
    "            print(random.choice([wTag[:2] for (wTag, _) in countWord.most_common() if wTag[1].startswith('DET')]))\n",
    "        elif tag.lower() == 'particle': \n",
    "            print(random.choice([wTag[:2] for (wTag, _) in countWord.most_common() if wTag[1].startswith('PRT')]))\n",
    "        elif tag.lower() == 'pronoun': \n",
    "            print(random.choice([wTag[:2] for (wTag, _) in countWord.most_common() if wTag[1].startswith('PRON')]))\n",
    "        elif tag.lower() == 'punctuation': \n",
    "            print(random.choice([wTag[:2] for (wTag, _) in countWord.most_common() if wTag[1].startswith('.')]))\n",
    "        elif tag.lower() == 'other': \n",
    "            print(random.choice([wTag[:2] for (wTag, _) in countWord.most_common() if wTag[1].startswith('X')]))\n",
    "        elif tag.lower() == 'bank' :\n",
    "            print(\"Try using one of the following:\\n 'verb', 'noun', 'adjective', 'adverb', 'conjunction', 'determiner', 'particle', 'pronoun', 'punctuation', & 'other'\")\n",
    "        else: print('try again')\n",
    "        continue\n",
    "            \n",
    "    c = input(\"Continue? \")\n",
    "    c1 = c.lower()\n",
    "    if c1[0] == 'y':\n",
    "        continue\n",
    "    elif c1[0] == 'n':\n",
    "        print('Goodbye')\n",
    "        break"
   ]
  }
 ],
 "metadata": {
  "kernelspec": {
   "display_name": "Python 3",
   "language": "python",
   "name": "python3"
  },
  "language_info": {
   "codemirror_mode": {
    "name": "ipython",
    "version": 3
   },
   "file_extension": ".py",
   "mimetype": "text/x-python",
   "name": "python",
   "nbconvert_exporter": "python",
   "pygments_lexer": "ipython3",
   "version": "3.8.5"
  }
 },
 "nbformat": 4,
 "nbformat_minor": 4
}
